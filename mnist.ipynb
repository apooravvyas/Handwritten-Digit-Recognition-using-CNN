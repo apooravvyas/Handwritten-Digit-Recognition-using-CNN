{
 "cells": [
  {
   "cell_type": "markdown",
   "metadata": {
    "id": "emN7PokBgOL3"
   },
   "source": [
    "# **Accurate Image Classification with MNIST Dataset**"
   ]
  },
  {
   "cell_type": "markdown",
   "metadata": {},
   "source": [
    "#### CNN Notes: https://drive.google.com/file/d/1Qp6rV9yLGyj_S8_MlAu4XLJybuLA3cII/view?usp=sharing"
   ]
  },
  {
   "cell_type": "markdown",
   "metadata": {
    "id": "2SzhuYI6gh8p"
   },
   "source": [
    "## Importing Required Libraries"
   ]
  },
  {
   "cell_type": "code",
   "execution_count": 1,
   "metadata": {
    "id": "Vwrr0GlSpiF-"
   },
   "outputs": [],
   "source": [
    "import tensorflow as tf\n",
    "import matplotlib.pyplot as plt\n",
    "%matplotlib inline \n",
    "# Importing the required Keras modules containing model and layers\n",
    "from tensorflow.keras.models import Sequential\n",
    "from tensorflow.keras.layers import Dense, Conv2D, Dropout, Flatten, MaxPooling2D"
   ]
  },
  {
   "cell_type": "markdown",
   "metadata": {
    "id": "xJujKMtxf95z"
   },
   "source": [
    "## Downloading the MNIST Dataset\n",
    "#### Tensorflow and Keras allow us to import and download the MNIST dataset directly from their API\n"
   ]
  },
  {
   "cell_type": "code",
   "execution_count": 2,
   "metadata": {
    "colab": {
     "base_uri": "https://localhost:8080/"
    },
    "id": "4FT5Ufe_ffWc",
    "outputId": "0b3cb516-041e-4bcd-fb9a-08c339cf5a68"
   },
   "outputs": [
    {
     "name": "stdout",
     "output_type": "stream",
     "text": [
      "Downloading data from https://storage.googleapis.com/tensorflow/tf-keras-datasets/mnist.npz\n",
      "11493376/11490434 [==============================] - 38s 3us/step\n"
     ]
    }
   ],
   "source": [
    "(x_train, y_train), (x_test, y_test) = tf.keras.datasets.mnist.load_data()"
   ]
  },
  {
   "cell_type": "markdown",
   "metadata": {
    "id": "Wee0yKC8gtFn"
   },
   "source": [
    "### Greyscale visualization of an image fom the dataset"
   ]
  },
  {
   "cell_type": "code",
   "execution_count": 3,
   "metadata": {
    "colab": {
     "base_uri": "https://localhost:8080/",
     "height": 298
    },
    "id": "EdG7_qWqplAu",
    "outputId": "9b1f109c-1d03-4cce-a59e-05a49c4b583e"
   },
   "outputs": [
    {
     "name": "stdout",
     "output_type": "stream",
     "text": [
      "2\n"
     ]
    },
    {
     "data": {
      "text/plain": [
       "<matplotlib.image.AxesImage at 0x2302a1aa2c8>"
      ]
     },
     "execution_count": 3,
     "metadata": {},
     "output_type": "execute_result"
    },
    {
     "data": {
      "image/png": "[encoded data removed]",
      "text/plain": [
       "<Figure size 432x288 with 1 Axes>"
      ]
     },
     "metadata": {
      "needs_background": "light"
     },
     "output_type": "display_data"
    }
   ],
   "source": [
    "img_index = 6547 \n",
    "print(y_train[img_index]) \n",
    "plt.imshow(x_train[img_index], cmap='Greys')"
   ]
  },
  {
   "cell_type": "markdown",
   "metadata": {
    "id": "UxIY_pZKg3yd"
   },
   "source": [
    "## Reshaping and Normalizing the Images"
   ]
  },
  {
   "cell_type": "code",
   "execution_count": 4,
   "metadata": {
    "colab": {
     "base_uri": "https://localhost:8080/"
    },
    "id": "0xBVVDS0qGV4",
    "outputId": "d9a0a9b4-958e-4082-ef19-ea7a90294a71"
   },
   "outputs": [
    {
     "data": {
      "text/plain": [
       "(60000, 28, 28)"
      ]
     },
     "execution_count": 4,
     "metadata": {},
     "output_type": "execute_result"
    }
   ],
   "source": [
    "x_train.shape"
   ]
  },
  {
   "cell_type": "code",
   "execution_count": 5,
   "metadata": {
    "colab": {
     "base_uri": "https://localhost:8080/"
    },
    "id": "usrsc7NTqQDp",
    "outputId": "c5ecfad3-a440-48b6-d9b9-50ab2534897a"
   },
   "outputs": [
    {
     "name": "stdout",
     "output_type": "stream",
     "text": [
      "x_train shape: (60000, 28, 28, 1)\n",
      "Number of images in x_train 60000\n",
      "Number of images in x_test 10000\n"
     ]
    }
   ],
   "source": [
    "x_train = x_train.reshape(x_train.shape[0], 28, 28, 1)\n",
    "x_test = x_test.reshape(x_test.shape[0], 28, 28, 1)\n",
    "input_shape = (28, 28, 1)\n",
    "\n",
    "x_train = x_train.astype('float32')\n",
    "x_test = x_test.astype('float32')\n",
    "\n",
    "x_train /= 255\n",
    "x_test /= 255\n",
    "print('x_train shape:', x_train.shape)\n",
    "print('Number of images in x_train', x_train.shape[0])\n",
    "print('Number of images in x_test', x_test.shape[0])"
   ]
  },
  {
   "cell_type": "markdown",
   "metadata": {
    "id": "rZyLZN_6g6kV"
   },
   "source": [
    "## Creating your own CNN model"
   ]
  },
  {
   "cell_type": "markdown",
   "metadata": {
    "id": "B4-bOjSJhOrX"
   },
   "source": [
    "### Adding layers into the model"
   ]
  },
  {
   "cell_type": "code",
   "execution_count": 6,
   "metadata": {
    "id": "jMqqsDadqTuQ"
   },
   "outputs": [],
   "source": [
    "# Creating a Sequential Model and adding the layers\n",
    "model = Sequential()\n",
    "model.add(Conv2D(28, kernel_size=(3,3), input_shape=input_shape))\n",
    "model.add(MaxPooling2D(pool_size=(2, 2)))\n",
    "model.add(Flatten()) \n",
    "model.add(Dense(128, activation=tf.nn.relu))\n",
    "model.add(Dropout(0.2))\n",
    "model.add(Dense(10,activation=tf.nn.softmax))"
   ]
  },
  {
   "cell_type": "markdown",
   "metadata": {
    "id": "Viz87YmEhJqH"
   },
   "source": [
    "### Fitting, Compilation and Evaluation\n"
   ]
  },
  {
   "cell_type": "code",
   "execution_count": 7,
   "metadata": {
    "colab": {
     "base_uri": "https://localhost:8080/"
    },
    "id": "5Ors35YEqXFw",
    "outputId": "fbe6b873-a509-4782-f3aa-706a5710f69b"
   },
   "outputs": [
    {
     "name": "stdout",
     "output_type": "stream",
     "text": [
      "Train on 60000 samples, validate on 10000 samples\n",
      "Epoch 1/10\n",
      "60000/60000 [==============================] - 138s 2ms/sample - loss: 0.2095 - accuracy: 0.9376 - val_loss: 0.0881 - val_accuracy: 0.9721\n",
      "Epoch 2/10\n",
      "60000/60000 [==============================] - 128s 2ms/sample - loss: 0.0802 - accuracy: 0.9752 - val_loss: 0.0595 - val_accuracy: 0.9814\n",
      "Epoch 3/10\n",
      "60000/60000 [==============================] - 128s 2ms/sample - loss: 0.0576 - accuracy: 0.9816 - val_loss: 0.0527 - val_accuracy: 0.9822\n",
      "Epoch 4/10\n",
      "60000/60000 [==============================] - 130s 2ms/sample - loss: 0.0425 - accuracy: 0.9864 - val_loss: 0.0508 - val_accuracy: 0.9849\n",
      "Epoch 5/10\n",
      "60000/60000 [==============================] - 146s 2ms/sample - loss: 0.0354 - accuracy: 0.9887 - val_loss: 0.0478 - val_accuracy: 0.9854\n",
      "Epoch 6/10\n",
      "60000/60000 [==============================] - 130s 2ms/sample - loss: 0.0281 - accuracy: 0.9908 - val_loss: 0.0561 - val_accuracy: 0.9824\n",
      "Epoch 7/10\n",
      "60000/60000 [==============================] - 123s 2ms/sample - loss: 0.0239 - accuracy: 0.9922 - val_loss: 0.0589 - val_accuracy: 0.9852\n",
      "Epoch 8/10\n",
      "60000/60000 [==============================] - 128s 2ms/sample - loss: 0.0235 - accuracy: 0.9920 - val_loss: 0.0535 - val_accuracy: 0.9849\n",
      "Epoch 9/10\n",
      "60000/60000 [==============================] - 128s 2ms/sample - loss: 0.0180 - accuracy: 0.9935 - val_loss: 0.0593 - val_accuracy: 0.9853\n",
      "Epoch 10/10\n",
      "60000/60000 [==============================] - 127s 2ms/sample - loss: 0.0170 - accuracy: 0.9942 - val_loss: 0.0659 - val_accuracy: 0.9840\n"
     ]
    }
   ],
   "source": [
    "model.compile(optimizer='adam', loss='sparse_categorical_crossentropy', metrics=['accuracy'])\n",
    "history=model.fit(x=x_train,y=y_train, epochs=10, validation_data= ((x_test, y_test)))"
   ]
  },
  {
   "cell_type": "code",
   "execution_count": 8,
   "metadata": {
    "colab": {
     "base_uri": "https://localhost:8080/"
    },
    "id": "t5X2vLjWqaS5",
    "outputId": "335062ea-b47f-4d98-a248-ff48cd3498b6"
   },
   "outputs": [
    {
     "name": "stdout",
     "output_type": "stream",
     "text": [
      "10000/10000 [==============================] - 6s 591us/sample - loss: 0.0659 - accuracy: 0.9840\n"
     ]
    },
    {
     "data": {
      "text/plain": [
       "[0.06590935274491885, 0.984]"
      ]
     },
     "execution_count": 8,
     "metadata": {},
     "output_type": "execute_result"
    }
   ],
   "source": [
    "model.evaluate(x_test, y_test)"
   ]
  },
  {
   "cell_type": "markdown",
   "metadata": {
    "id": "cg-Y9mZfhYvE"
   },
   "source": [
    "## Graphical visualization of the results"
   ]
  },
  {
   "cell_type": "code",
   "execution_count": 9,
   "metadata": {
    "colab": {
     "base_uri": "https://localhost:8080/",
     "height": 54
    },
    "id": "-wkAXIipqkXE",
    "outputId": "670797c8-0462-4c62-c4f0-d780451ac395"
   },
   "outputs": [
    {
     "data": {
      "image/png": "[encoded data removed]",
      "text/plain": [
       "<Figure size 432x288 with 1 Axes>"
      ]
     },
     "metadata": {
      "needs_background": "light"
     },
     "output_type": "display_data"
    }
   ],
   "source": [
    "loss_train = history.history['loss']\n",
    "loss_val = history.history['val_loss']\n",
    "epochs = range(1,11)\n",
    "plt.plot(epochs, loss_train, 'g', label='Training loss')\n",
    "plt.plot(epochs, loss_val, 'b', label='validation loss')\n",
    "plt.title('Training and Validation loss')\n",
    "plt.xlabel('Epochs')\n",
    "plt.ylabel('Loss')\n",
    "plt.legend()\n",
    "plt.show()"
   ]
  },
  {
   "cell_type": "code",
   "execution_count": 10,
   "metadata": {
    "colab": {
     "base_uri": "https://localhost:8080/",
     "height": 54
    },
    "id": "d8uhKc-pqpf-",
    "outputId": "b403a5cc-25a2-4abf-c1fa-b41c86362834"
   },
   "outputs": [
    {
     "data": {
      "image/png": "[encoded data removed]",
      "text/plain": [
       "<Figure size 432x288 with 1 Axes>"
      ]
     },
     "metadata": {
      "needs_background": "light"
     },
     "output_type": "display_data"
    }
   ],
   "source": [
    "accuracy_train = history.history['accuracy']\n",
    "accuracy_val = history.history['val_accuracy']\n",
    "epochs = range(1,11)\n",
    "plt.plot(epochs, accuracy_train, 'g', label='Training accuracy')\n",
    "plt.plot(epochs, accuracy_val, 'b', label='validation accuracy')\n",
    "plt.title('Training and Validation accuracy')\n",
    "plt.xlabel('Epochs')\n",
    "plt.ylabel('Accuracy')\n",
    "plt.legend()\n",
    "plt.show()"
   ]
  },
  {
   "cell_type": "markdown",
   "metadata": {
    "id": "2nqrCEY5hl67"
   },
   "source": [
    "## Making individual predictions as a method of testing"
   ]
  },
  {
   "cell_type": "code",
   "execution_count": 11,
   "metadata": {
    "colab": {
     "base_uri": "https://localhost:8080/",
     "height": 70
    },
    "id": "pi7jmP3ZqzFi",
    "outputId": "285919de-c4e5-4569-bcba-348982d5588c"
   },
   "outputs": [
    {
     "name": "stdout",
     "output_type": "stream",
     "text": [
      "9\n"
     ]
    },
    {
     "data": {
      "image/png": "[encoded data removed]",
      "text/plain": [
       "<Figure size 432x288 with 1 Axes>"
      ]
     },
     "metadata": {
      "needs_background": "light"
     },
     "output_type": "display_data"
    }
   ],
   "source": [
    "image_index = 3798\n",
    "plt.imshow(x_test[image_index].reshape(28, 28),cmap='Greys')\n",
    "pred = model.predict(x_test[image_index].reshape(1, 28, 28, 1))\n",
    "print(pred.argmax())"
   ]
  },
  {
   "cell_type": "markdown",
   "metadata": {
    "id": "MdCBaF6hhstR"
   },
   "source": [
    "# **THANK YOU!!**"
   ]
  }
 ],
 "metadata": {
  "colab": {
   "collapsed_sections": [],
   "name": "mnist.ipynb",
   "provenance": []
  },
  "kernelspec": {
   "display_name": "Python 3",
   "language": "python",
   "name": "python3"
  },
  "language_info": {
   "codemirror_mode": {
    "name": "ipython",
    "version": 3
   },
   "file_extension": ".py",
   "mimetype": "text/x-python",
   "name": "python",
   "nbconvert_exporter": "python",
   "pygments_lexer": "ipython3",
   "version": "3.7.4"
  }
 },
 "nbformat": 4,
 "nbformat_minor": 1
}
